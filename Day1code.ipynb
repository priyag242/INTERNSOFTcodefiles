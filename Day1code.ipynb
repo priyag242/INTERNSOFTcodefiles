{
 "cells": [
  {
   "cell_type": "code",
   "execution_count": null,
   "id": "32e0939f-20f1-4b93-b093-8e0105aec389",
   "metadata": {},
   "outputs": [],
   "source": [
    "#integer\n",
    "x=4\n",
    "type(x)"
   ]
  },
  {
   "cell_type": "code",
   "execution_count": null,
   "id": "2976c736-6276-43a8-9325-90e4192dccf6",
   "metadata": {},
   "outputs": [],
   "source": [
    "#float\n",
    "y=1.2\n",
    "type(y)"
   ]
  },
  {
   "cell_type": "code",
   "execution_count": null,
   "id": "48bdac99-9314-4922-8f22-3aa9818ca635",
   "metadata": {},
   "outputs": [],
   "source": [
    "#Boolean\n",
    "x=True\n",
    "y=False\n",
    "type(x)"
   ]
  },
  {
   "cell_type": "code",
   "execution_count": null,
   "id": "f0f5c539-dd3c-4b57-b15d-fc69ca9a66bb",
   "metadata": {},
   "outputs": [],
   "source": [
    "#string\n",
    "name='ramay'\n",
    "type(name)"
   ]
  },
  {
   "cell_type": "code",
   "execution_count": null,
   "id": "b24e48cf-37c3-42d9-a5f7-33d20ef3207a",
   "metadata": {},
   "outputs": [],
   "source": [
    "#complex\n",
    "x=14+20j\n",
    "type(x)"
   ]
  },
  {
   "cell_type": "code",
   "execution_count": null,
   "id": "630276ab-70bf-4cc1-baaf-fe6302137d1b",
   "metadata": {},
   "outputs": [],
   "source": [
    "x=14+20j\n",
    "type(x)\n",
    "print(x)\n",
    "print(x.real, y.imag)"
   ]
  },
  {
   "cell_type": "code",
   "execution_count": 2,
   "id": "52bc3f44-8961-438d-8fc2-774a201b8e11",
   "metadata": {},
   "outputs": [
    {
     "name": "stdout",
     "output_type": "stream",
     "text": [
      "10\n"
     ]
    },
    {
     "data": {
      "text/plain": [
       "2"
      ]
     },
     "execution_count": 2,
     "metadata": {},
     "output_type": "execute_result"
    }
   ],
   "source": [
    "#variable\n",
    "#defining\n",
    "tenth=10\n",
    "two=2\n",
    "print(tenth)\n",
    "two"
   ]
  },
  {
   "cell_type": "code",
   "execution_count": 3,
   "id": "431c5f55-28a5-4b3f-a18f-5bb8e4e1af41",
   "metadata": {},
   "outputs": [
    {
     "data": {
      "text/plain": [
       "2"
      ]
     },
     "execution_count": 3,
     "metadata": {},
     "output_type": "execute_result"
    }
   ],
   "source": [
    "#Dynamic typing\n",
    "two=2\n",
    "two"
   ]
  },
  {
   "cell_type": "code",
   "execution_count": 4,
   "id": "d2389242-d989-4f2f-b9b1-0d7d6cfdfabf",
   "metadata": {},
   "outputs": [
    {
     "data": {
      "text/plain": [
       "'two'"
      ]
     },
     "execution_count": 4,
     "metadata": {},
     "output_type": "execute_result"
    }
   ],
   "source": [
    "two='two'\n",
    "two"
   ]
  },
  {
   "cell_type": "code",
   "execution_count": 6,
   "id": "521341fd-b4e0-4f71-b834-ad8870a3a28e",
   "metadata": {},
   "outputs": [
    {
     "data": {
      "text/plain": [
       "'day1'"
      ]
     },
     "execution_count": 6,
     "metadata": {},
     "output_type": "execute_result"
    }
   ],
   "source": [
    "#strong typing\n",
    "'day'+'1'"
   ]
  },
  {
   "cell_type": "code",
   "execution_count": 7,
   "id": "3be522b3-9571-48d6-875d-ea47a4f8584b",
   "metadata": {},
   "outputs": [
    {
     "data": {
      "text/plain": [
       "'day1'"
      ]
     },
     "execution_count": 7,
     "metadata": {},
     "output_type": "execute_result"
    }
   ],
   "source": [
    "'day'+str(1)\n"
   ]
  },
  {
   "cell_type": "code",
   "execution_count": 8,
   "id": "e72c0986-f4a9-40bf-80bd-fb0bbbe6e852",
   "metadata": {},
   "outputs": [
    {
     "data": {
      "text/plain": [
       "False"
      ]
     },
     "execution_count": 8,
     "metadata": {},
     "output_type": "execute_result"
    }
   ],
   "source": [
    "#simple expression(or,and,not & is)\n",
    "True and False\n"
   ]
  },
  {
   "cell_type": "code",
   "execution_count": 9,
   "id": "9ccd23a2-05b0-48b8-976c-aa6ceb2203b9",
   "metadata": {},
   "outputs": [
    {
     "data": {
      "text/plain": [
       "True"
      ]
     },
     "execution_count": 9,
     "metadata": {},
     "output_type": "execute_result"
    }
   ],
   "source": [
    "True or False\n"
   ]
  },
  {
   "cell_type": "code",
   "execution_count": 10,
   "id": "092463a5-8e44-40f4-aed5-c69373002ae6",
   "metadata": {},
   "outputs": [
    {
     "data": {
      "text/plain": [
       "True"
      ]
     },
     "execution_count": 10,
     "metadata": {},
     "output_type": "execute_result"
    }
   ],
   "source": [
    "not False\n"
   ]
  },
  {
   "cell_type": "code",
   "execution_count": 11,
   "id": "c7c6f6c2-372c-4d25-8d4d-3787e1f31090",
   "metadata": {},
   "outputs": [
    {
     "data": {
      "text/plain": [
       "False"
      ]
     },
     "execution_count": 11,
     "metadata": {},
     "output_type": "execute_result"
    }
   ],
   "source": [
    "not True"
   ]
  },
  {
   "cell_type": "code",
   "execution_count": 12,
   "id": "68859737-17a9-405e-bb6f-5cc878c1f053",
   "metadata": {},
   "outputs": [
    {
     "data": {
      "text/plain": [
       "True"
      ]
     },
     "execution_count": 12,
     "metadata": {},
     "output_type": "execute_result"
    }
   ],
   "source": [
    "True is True\n"
   ]
  },
  {
   "cell_type": "code",
   "execution_count": 13,
   "id": "e9551b25-59fd-4e1d-936c-cd1ee6e46779",
   "metadata": {},
   "outputs": [
    {
     "data": {
      "text/plain": [
       "False"
      ]
     },
     "execution_count": 13,
     "metadata": {},
     "output_type": "execute_result"
    }
   ],
   "source": [
    "True is False\n"
   ]
  },
  {
   "cell_type": "code",
   "execution_count": 18,
   "id": "e3314eb2-f76d-4471-ad20-4d94ad7d2e10",
   "metadata": {},
   "outputs": [
    {
     "name": "stdout",
     "output_type": "stream",
     "text": [
      "less then 3\n"
     ]
    }
   ],
   "source": [
    "#Branching (if/elif/else)\n",
    "i=3\n",
    "if i==3:\n",
    "    print(\"less then 3\")\n",
    "elif i>5:\n",
    "    print(\"more then  5\")\n",
    "else:\n",
    "    print(\"more then 5\")"
   ]
  },
  {
   "cell_type": "code",
   "execution_count": 19,
   "id": "198b3857-bdd0-43d6-aab2-64799cefbd76",
   "metadata": {},
   "outputs": [
    {
     "data": {
      "text/plain": [
       "[]"
      ]
     },
     "execution_count": 19,
     "metadata": {},
     "output_type": "execute_result"
    }
   ],
   "source": [
    "#list\n",
    "l=[]\n",
    "l"
   ]
  },
  {
   "cell_type": "code",
   "execution_count": 20,
   "id": "6781bbae-844b-426a-ac34-ae6519d9224a",
   "metadata": {},
   "outputs": [
    {
     "data": {
      "text/plain": [
       "[]"
      ]
     },
     "execution_count": 20,
     "metadata": {},
     "output_type": "execute_result"
    }
   ],
   "source": [
    "l=list()\n",
    "l"
   ]
  },
  {
   "cell_type": "code",
   "execution_count": 32,
   "id": "d60a968a-db54-48d9-9534-930a44a88c83",
   "metadata": {},
   "outputs": [
    {
     "name": "stdout",
     "output_type": "stream",
     "text": [
      "['a', 'b', 'c']\n"
     ]
    },
    {
     "data": {
      "text/plain": [
       "list"
      ]
     },
     "execution_count": 32,
     "metadata": {},
     "output_type": "execute_result"
    }
   ],
   "source": [
    "l1=['a','b','c']\n",
    "print(l1)\n",
    "type(l1)"
   ]
  },
  {
   "cell_type": "code",
   "execution_count": 33,
   "id": "98750b48-5932-4e2e-a8d9-6a7482733080",
   "metadata": {},
   "outputs": [
    {
     "data": {
      "text/plain": [
       "['a', 3]"
      ]
     },
     "execution_count": 33,
     "metadata": {},
     "output_type": "execute_result"
    }
   ],
   "source": [
    "l=['a',3]\n",
    "l"
   ]
  },
  {
   "cell_type": "code",
   "execution_count": 34,
   "id": "64a76c47-31d8-424d-9d8d-ffb3dad2258d",
   "metadata": {},
   "outputs": [
    {
     "data": {
      "text/plain": [
       "['a', 'b', 'c', 'd', 'f']"
      ]
     },
     "execution_count": 34,
     "metadata": {},
     "output_type": "execute_result"
    }
   ],
   "source": [
    "list('abcdf')\n"
   ]
  },
  {
   "cell_type": "code",
   "execution_count": 47,
   "id": "ea6677e2-f3ca-495c-be49-39c1e8c41797",
   "metadata": {},
   "outputs": [
    {
     "name": "stdout",
     "output_type": "stream",
     "text": [
      "[1, 2]\n",
      "[1, 2, 'b']\n",
      "[1, 2, 'b', 'c']\n"
     ]
    },
    {
     "data": {
      "text/plain": [
       "[1, 45, 2, 'b', 'c']"
      ]
     },
     "execution_count": 47,
     "metadata": {},
     "output_type": "execute_result"
    }
   ],
   "source": [
    "l = [1, 2]\n",
    "print(l)\n",
    "l.append('b')\n",
    "print(l)\n",
    "l.append('c')\n",
    "print(l)\n",
    "l.insert(1, 45)\n",
    "l\n"
   ]
  },
  {
   "cell_type": "code",
   "execution_count": 48,
   "id": "83940dc0-eb54-41e0-9caf-93e884f252e3",
   "metadata": {},
   "outputs": [
    {
     "name": "stdout",
     "output_type": "stream",
     "text": [
      "1\n",
      "45\n",
      "2\n",
      "b\n",
      "c\n"
     ]
    }
   ],
   "source": [
    "for i in l:\n",
    "    print(i)"
   ]
  },
  {
   "cell_type": "code",
   "execution_count": 49,
   "id": "5dd7f201-364f-452f-997c-00387ff71927",
   "metadata": {},
   "outputs": [
    {
     "name": "stdout",
     "output_type": "stream",
     "text": [
      "the sum is 33\n"
     ]
    }
   ],
   "source": [
    "#loops\n",
    "\n",
    "#for loop\n",
    "num=[3,4,4,6,7,5,3,1]\n",
    "sum=0;\n",
    "for i in num:\n",
    "    sum=sum+i\n",
    "print(\"the sum is\",sum)\n"
   ]
  },
  {
   "cell_type": "code",
   "execution_count": 50,
   "id": "fef0067e-b0f6-4b20-8577-8fc3ef246fdb",
   "metadata": {},
   "outputs": [
    {
     "name": "stdin",
     "output_type": "stream",
     "text": [
      "Enter the n:  54\n"
     ]
    },
    {
     "name": "stdout",
     "output_type": "stream",
     "text": [
      "The sum is 1485\n"
     ]
    }
   ],
   "source": [
    "#while loop\n",
    "\n",
    "n=int(input(\"Enter the n: \"))\n",
    "sum=0\n",
    "i=1\n",
    "while i<=n:\n",
    "    sum=sum+i\n",
    "    i=i+1\n",
    "print(\"The sum is\", sum)\n",
    "      "
   ]
  },
  {
   "cell_type": "code",
   "execution_count": 51,
   "id": "4d63efc9-b789-43e2-9d68-ec98494d2141",
   "metadata": {},
   "outputs": [
    {
     "name": "stdout",
     "output_type": "stream",
     "text": [
      "range(0, 10)\n"
     ]
    }
   ],
   "source": [
    "#the range() function\n",
    "#start,stop and step size\n",
    "\n",
    "print(range(10))"
   ]
  },
  {
   "cell_type": "code",
   "execution_count": 52,
   "id": "a1da12b3-8947-417f-884f-6f9a7c7b400e",
   "metadata": {},
   "outputs": [
    {
     "name": "stdout",
     "output_type": "stream",
     "text": [
      "[0, 1, 2, 3, 4, 5, 6, 7, 8, 9]\n"
     ]
    }
   ],
   "source": [
    "print(list(range(10)))"
   ]
  },
  {
   "cell_type": "code",
   "execution_count": 55,
   "id": "39b03349-ac19-4d93-b1cc-4e5aa0c058af",
   "metadata": {},
   "outputs": [
    {
     "name": "stdout",
     "output_type": "stream",
     "text": [
      "[2, 3, 4, 5, 6]\n"
     ]
    }
   ],
   "source": [
    "print(list(range(2,7)))"
   ]
  },
  {
   "cell_type": "code",
   "execution_count": 56,
   "id": "a5d9af52-e8ea-4774-b900-40324662f594",
   "metadata": {},
   "outputs": [
    {
     "name": "stdout",
     "output_type": "stream",
     "text": [
      "[2, 6, 10, 14, 18]\n"
     ]
    }
   ],
   "source": [
    "print(list(range(2,20,4)))\n"
   ]
  },
  {
   "cell_type": "code",
   "execution_count": 57,
   "id": "e9774980-9c28-4434-af3b-b242a369edae",
   "metadata": {},
   "outputs": [
    {
     "name": "stdout",
     "output_type": "stream",
     "text": [
      "I Like pop\n",
      "I Like rock\n",
      "I Like jazz\n",
      "I Like sapana\n"
     ]
    }
   ],
   "source": [
    "genre=['pop', 'rock', 'jazz', 'sapana']\n",
    "for i in range (len(genre)):\n",
    "    print(\"I Like\", genre[i])"
   ]
  },
  {
   "cell_type": "code",
   "execution_count": 58,
   "id": "6c4e8841-9389-46bf-9433-db0e0cfcb92d",
   "metadata": {},
   "outputs": [
    {
     "name": "stdout",
     "output_type": "stream",
     "text": [
      "H\n",
      "A\n",
      "R\n",
      "S\n",
      "H\n"
     ]
    }
   ],
   "source": [
    "#break and continue\n",
    "for val in \"HARSHITHA\":\n",
    "    if val=='I':\n",
    "        break\n",
    "    print(val)\n"
   ]
  },
  {
   "cell_type": "code",
   "execution_count": 59,
   "id": "9e807ed0-ebdb-455c-aa02-1d5a14dafe30",
   "metadata": {},
   "outputs": [
    {
     "name": "stdout",
     "output_type": "stream",
     "text": [
      "H\n",
      "A\n",
      "R\n",
      "S\n",
      "H\n",
      "T\n",
      "H\n",
      "A\n"
     ]
    }
   ],
   "source": [
    "for val in \"HARSHITHA\":\n",
    "    if val=='I':\n",
    "       continue\n",
    "    print(val)\n"
   ]
  },
  {
   "cell_type": "code",
   "execution_count": 60,
   "id": "ff7ab6aa-9b29-451f-b116-43807bc09dbc",
   "metadata": {},
   "outputs": [
    {
     "name": "stdin",
     "output_type": "stream",
     "text": [
      "What is youre name?\n",
      " riya\n"
     ]
    },
    {
     "data": {
      "text/plain": [
       "str"
      ]
     },
     "execution_count": 60,
     "metadata": {},
     "output_type": "execute_result"
    }
   ],
   "source": [
    "#how take the input from user\n",
    "name=input(\"What is youre name?\\n\")\n",
    "type(name)"
   ]
  },
  {
   "cell_type": "code",
   "execution_count": 61,
   "id": "548eb7c1-7cc5-4abb-ac0a-129370a1e3ef",
   "metadata": {},
   "outputs": [
    {
     "name": "stdin",
     "output_type": "stream",
     "text": [
      "What is youre age?\n",
      " 21\n"
     ]
    },
    {
     "name": "stdout",
     "output_type": "stream",
     "text": [
      "your age is : 21\n"
     ]
    },
    {
     "data": {
      "text/plain": [
       "int"
      ]
     },
     "execution_count": 61,
     "metadata": {},
     "output_type": "execute_result"
    }
   ],
   "source": [
    "age=int(input(\"What is youre age?\\n\"))\n",
    "print(\"your age is :\",age)\n",
    "type(age)\n",
    "        "
   ]
  },
  {
   "cell_type": "code",
   "execution_count": 62,
   "id": "4a985d8a-6318-4b6f-889d-060327babaf5",
   "metadata": {},
   "outputs": [
    {
     "name": "stdin",
     "output_type": "stream",
     "text": [
      "What is youre name?\n",
      " riya\n",
      "What is youre age?\n",
      " 21\n"
     ]
    },
    {
     "name": "stdout",
     "output_type": "stream",
     "text": [
      "your age is : 21\n"
     ]
    },
    {
     "data": {
      "text/plain": [
       "int"
      ]
     },
     "execution_count": 62,
     "metadata": {},
     "output_type": "execute_result"
    }
   ],
   "source": [
    "name=input(\"What is youre name?\\n\")\n",
    "type(name)\n",
    "age=int(input(\"What is youre age?\\n\"))\n",
    "print(\"your age is :\",age)\n",
    "type(age)\n",
    "        "
   ]
  },
  {
   "cell_type": "code",
   "execution_count": null,
   "id": "0317a94e-26f1-451e-b175-0fe55d9b285b",
   "metadata": {},
   "outputs": [],
   "source": []
  }
 ],
 "metadata": {
  "kernelspec": {
   "display_name": "Python 3 (ipykernel)",
   "language": "python",
   "name": "python3"
  },
  "language_info": {
   "codemirror_mode": {
    "name": "ipython",
    "version": 3
   },
   "file_extension": ".py",
   "mimetype": "text/x-python",
   "name": "python",
   "nbconvert_exporter": "python",
   "pygments_lexer": "ipython3",
   "version": "3.12.4"
  }
 },
 "nbformat": 4,
 "nbformat_minor": 5
}
